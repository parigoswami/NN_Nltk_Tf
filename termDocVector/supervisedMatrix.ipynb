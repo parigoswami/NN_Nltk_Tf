{
 "cells": [
  {
   "cell_type": "code",
   "execution_count": 1,
   "metadata": {
    "collapsed": true
   },
   "outputs": [],
   "source": [
    "import pandas as pd\n",
    "import numpy as np"
   ]
  },
  {
   "cell_type": "code",
   "execution_count": 6,
   "metadata": {},
   "outputs": [],
   "source": [
    "df = pd.read_csv(\"/Users/pari/Developer/NN_TF_NLTK/Data/emotion_recognizer_svm.csv\")"
   ]
  },
  {
   "cell_type": "code",
   "execution_count": 24,
   "metadata": {},
   "outputs": [
    {
     "name": "stdout",
     "output_type": "stream",
     "text": [
      "                                             Content Emotion_actual  \\\n",
      "0  should be finish but i m not color draw here i...            fun   \n",
      "1                     I m sorry at least it s Friday        sadness   \n",
      "2     Day go by Have to wake up early again tomorrow           hate   \n",
      "3                  no way damn that suck B be you ok        neutral   \n",
      "4      have go away 4 the weekend I miss her already          worry   \n",
      "\n",
      "  Emotion_predicted  \n",
      "0             worry  \n",
      "1             worry  \n",
      "2             worry  \n",
      "3           neutral  \n",
      "4           sadness  \n"
     ]
    },
    {
     "data": {
      "text/plain": [
       "(375, 3)"
      ]
     },
     "execution_count": 24,
     "metadata": {},
     "output_type": "execute_result"
    }
   ],
   "source": [
    "print(df.head())\n",
    "df.shape"
   ]
  },
  {
   "cell_type": "code",
   "execution_count": 27,
   "metadata": {},
   "outputs": [
    {
     "data": {
      "text/plain": [
       "(325, 3)"
      ]
     },
     "execution_count": 27,
     "metadata": {},
     "output_type": "execute_result"
    }
   ],
   "source": [
    "trainingSet = df[50:]\n",
    "trainingSet.shape"
   ]
  },
  {
   "cell_type": "code",
   "execution_count": 29,
   "metadata": {},
   "outputs": [
    {
     "data": {
      "text/plain": [
       "(50, 3)"
      ]
     },
     "execution_count": 29,
     "metadata": {},
     "output_type": "execute_result"
    }
   ],
   "source": [
    "testingSet = df[:50]\n",
    "testingSet.shape"
   ]
  },
  {
   "cell_type": "code",
   "execution_count": 32,
   "metadata": {},
   "outputs": [
    {
     "data": {
      "text/html": [
       "<div>\n",
       "<style>\n",
       "    .dataframe thead tr:only-child th {\n",
       "        text-align: right;\n",
       "    }\n",
       "\n",
       "    .dataframe thead th {\n",
       "        text-align: left;\n",
       "    }\n",
       "\n",
       "    .dataframe tbody tr th {\n",
       "        vertical-align: top;\n",
       "    }\n",
       "</style>\n",
       "<table border=\"1\" class=\"dataframe\">\n",
       "  <thead>\n",
       "    <tr style=\"text-align: right;\">\n",
       "      <th></th>\n",
       "      <th>Content</th>\n",
       "      <th>Emotion_actual</th>\n",
       "      <th>Emotion_predicted</th>\n",
       "    </tr>\n",
       "  </thead>\n",
       "  <tbody>\n",
       "    <tr>\n",
       "      <th>50</th>\n",
       "      <td>You re cycle tho that s good Healthy eat Healt...</td>\n",
       "      <td>relief</td>\n",
       "      <td>neutral</td>\n",
       "    </tr>\n",
       "    <tr>\n",
       "      <th>51</th>\n",
       "      <td>that will have to leave my beautiful apartment</td>\n",
       "      <td>sadness</td>\n",
       "      <td>sadness</td>\n",
       "    </tr>\n",
       "    <tr>\n",
       "      <th>52</th>\n",
       "      <td>yeah its still totally in the high 60s here so...</td>\n",
       "      <td>worry</td>\n",
       "      <td>worry</td>\n",
       "    </tr>\n",
       "    <tr>\n",
       "      <th>53</th>\n",
       "      <td>Sorry move back</td>\n",
       "      <td>neutral</td>\n",
       "      <td>worry</td>\n",
       "    </tr>\n",
       "    <tr>\n",
       "      <th>54</th>\n",
       "      <td>again I hate mornings So offensive</td>\n",
       "      <td>sadness</td>\n",
       "      <td>sadness</td>\n",
       "    </tr>\n",
       "  </tbody>\n",
       "</table>\n",
       "</div>"
      ],
      "text/plain": [
       "                                              Content Emotion_actual  \\\n",
       "50  You re cycle tho that s good Healthy eat Healt...         relief   \n",
       "51     that will have to leave my beautiful apartment        sadness   \n",
       "52  yeah its still totally in the high 60s here so...          worry   \n",
       "53                                    Sorry move back        neutral   \n",
       "54                 again I hate mornings So offensive        sadness   \n",
       "\n",
       "   Emotion_predicted  \n",
       "50           neutral  \n",
       "51           sadness  \n",
       "52             worry  \n",
       "53             worry  \n",
       "54           sadness  "
      ]
     },
     "execution_count": 32,
     "metadata": {},
     "output_type": "execute_result"
    }
   ],
   "source": [
    "trainingSet.head()"
   ]
  },
  {
   "cell_type": "code",
   "execution_count": 37,
   "metadata": {},
   "outputs": [],
   "source": [
    "train_data = []\n",
    "train_labels = []\n",
    "for row in trainingSet[\"Content\"]:\n",
    "    train_data.append(row)\n",
    "for row in trainingSet[\"Emotion_actual\"]:\n",
    "    train_labels.append(row)\n",
    "\n",
    "test_data = [] \n",
    "test_labels = [] \n",
    "for row in testingSet[\"Content\"]:\n",
    "    test_data.append(row) \n",
    "for row in testingSet[\"Emotion_actual\"]:\n",
    "    test_labels.append(row)"
   ]
  },
  {
   "cell_type": "code",
   "execution_count": 41,
   "metadata": {},
   "outputs": [
    {
     "name": "stdout",
     "output_type": "stream",
     "text": [
      "325 325\n"
     ]
    }
   ],
   "source": [
    "print(len(train_data),len(train_labels))"
   ]
  },
  {
   "cell_type": "code",
   "execution_count": 42,
   "metadata": {},
   "outputs": [
    {
     "name": "stdout",
     "output_type": "stream",
     "text": [
      "50 50\n"
     ]
    }
   ],
   "source": [
    "print(len(test_data),len(test_labels))"
   ]
  },
  {
   "cell_type": "code",
   "execution_count": 45,
   "metadata": {},
   "outputs": [],
   "source": [
    "from sklearn.feature_extraction.text import TfidfVectorizer\n",
    "vectorizer = TfidfVectorizer(min_df=4, max_df=0.9)\n",
    "# Train the feature vectors\n",
    "train_vectors = vectorizer.fit_transform(train_data)\n",
    "# Apply model on test data \n",
    "test_vectors = vectorizer.transform(test_data)"
   ]
  },
  {
   "cell_type": "code",
   "execution_count": 78,
   "metadata": {},
   "outputs": [],
   "source": [
    "from sklearn import svm \n",
    "model = svm.SVC(kernel='linear') \n",
    "model.fit(train_vectors, train_labels) \n",
    "prediction = model.predict(test_vectors)\n"
   ]
  },
  {
   "cell_type": "code",
   "execution_count": 49,
   "metadata": {},
   "outputs": [
    {
     "data": {
      "text/plain": [
       "array(['worry', 'sadness', 'sadness', 'sadness', 'neutral', 'neutral',\n",
       "       'neutral', 'worry', 'worry', 'sadness', 'neutral', 'sadness',\n",
       "       'worry', 'neutral', 'neutral', 'neutral', 'worry', 'neutral',\n",
       "       'neutral', 'worry', 'worry', 'neutral', 'worry', 'sadness',\n",
       "       'sadness', 'sadness', 'neutral', 'worry', 'worry', 'sadness',\n",
       "       'worry', 'sadness', 'worry', 'neutral', 'worry', 'neutral', 'worry',\n",
       "       'neutral', 'neutral', 'neutral', 'neutral', 'neutral', 'neutral',\n",
       "       'neutral', 'worry', 'worry', 'worry', 'worry', 'worry', 'neutral'],\n",
       "      dtype='<U10')"
      ]
     },
     "execution_count": 49,
     "metadata": {},
     "output_type": "execute_result"
    }
   ],
   "source": [
    "prediction"
   ]
  },
  {
   "cell_type": "code",
   "execution_count": 59,
   "metadata": {},
   "outputs": [
    {
     "name": "stdout",
     "output_type": "stream",
     "text": [
      "Actual is  fun\n",
      "Prediction is  worry\n",
      "************************\n",
      "Actual is  sadness\n",
      "Prediction is  sadness\n",
      "************************\n",
      "Actual is  hate\n",
      "Prediction is  sadness\n",
      "************************\n",
      "Actual is  neutral\n",
      "Prediction is  sadness\n",
      "************************\n",
      "Actual is  worry\n",
      "Prediction is  neutral\n",
      "************************\n",
      "Actual is  neutral\n",
      "Prediction is  neutral\n",
      "************************\n",
      "Actual is  worry\n",
      "Prediction is  neutral\n",
      "************************\n",
      "Actual is  neutral\n",
      "Prediction is  worry\n",
      "************************\n",
      "Actual is  surprise\n",
      "Prediction is  worry\n",
      "************************\n",
      "Actual is  neutral\n",
      "Prediction is  sadness\n",
      "************************\n",
      "Actual is  neutral\n",
      "Prediction is  neutral\n",
      "************************\n",
      "Actual is  surprise\n",
      "Prediction is  sadness\n",
      "************************\n",
      "Actual is  surprise\n",
      "Prediction is  worry\n",
      "************************\n",
      "Actual is  worry\n",
      "Prediction is  neutral\n",
      "************************\n",
      "Actual is  neutral\n",
      "Prediction is  neutral\n",
      "************************\n",
      "Actual is  neutral\n",
      "Prediction is  neutral\n",
      "************************\n",
      "Actual is  hate\n",
      "Prediction is  worry\n",
      "************************\n",
      "Actual is  neutral\n",
      "Prediction is  neutral\n",
      "************************\n",
      "Actual is  sadness\n",
      "Prediction is  neutral\n",
      "************************\n",
      "Actual is  worry\n",
      "Prediction is  worry\n",
      "************************\n",
      "Actual is  fun\n",
      "Prediction is  worry\n",
      "************************\n",
      "Actual is  surprise\n",
      "Prediction is  neutral\n",
      "************************\n",
      "Actual is  sadness\n",
      "Prediction is  worry\n",
      "************************\n",
      "Actual is  neutral\n",
      "Prediction is  sadness\n",
      "************************\n",
      "Actual is  worry\n",
      "Prediction is  sadness\n",
      "************************\n",
      "Actual is  sadness\n",
      "Prediction is  sadness\n",
      "************************\n",
      "Actual is  worry\n",
      "Prediction is  neutral\n",
      "************************\n",
      "Actual is  neutral\n",
      "Prediction is  worry\n",
      "************************\n",
      "Actual is  worry\n",
      "Prediction is  worry\n",
      "************************\n",
      "Actual is  worry\n",
      "Prediction is  sadness\n",
      "************************\n",
      "Actual is  sadness\n",
      "Prediction is  worry\n",
      "************************\n",
      "Actual is  hate\n",
      "Prediction is  sadness\n",
      "************************\n",
      "Actual is  worry\n",
      "Prediction is  worry\n",
      "************************\n",
      "Actual is  worry\n",
      "Prediction is  neutral\n",
      "************************\n",
      "Actual is  neutral\n",
      "Prediction is  worry\n",
      "************************\n",
      "Actual is  worry\n",
      "Prediction is  neutral\n",
      "************************\n",
      "Actual is  neutral\n",
      "Prediction is  worry\n",
      "************************\n",
      "Actual is  worry\n",
      "Prediction is  neutral\n",
      "************************\n",
      "Actual is  sadness\n",
      "Prediction is  neutral\n",
      "************************\n",
      "Actual is  worry\n",
      "Prediction is  neutral\n",
      "************************\n",
      "Actual is  neutral\n",
      "Prediction is  neutral\n",
      "************************\n",
      "Actual is  sadness\n",
      "Prediction is  neutral\n",
      "************************\n",
      "Actual is  worry\n",
      "Prediction is  neutral\n",
      "************************\n",
      "Actual is  empty\n",
      "Prediction is  neutral\n",
      "************************\n",
      "Actual is  sadness\n",
      "Prediction is  worry\n",
      "************************\n",
      "Actual is  sadness\n",
      "Prediction is  worry\n",
      "************************\n",
      "Actual is  happiness\n",
      "Prediction is  worry\n",
      "************************\n",
      "Actual is  sadness\n",
      "Prediction is  worry\n",
      "************************\n",
      "Actual is  worry\n",
      "Prediction is  worry\n",
      "************************\n",
      "Actual is  neutral\n",
      "Prediction is  neutral\n",
      "************************\n"
     ]
    }
   ],
   "source": [
    "for i in range(0,len(test_labels)):\n",
    "    print(\"Actual is \",test_labels[i])\n",
    "    print(\"Prediction is \",prediction[i])\n",
    "    print(\"************************\")"
   ]
  },
  {
   "cell_type": "markdown",
   "metadata": {},
   "source": [
    "## Prediction"
   ]
  },
  {
   "cell_type": "code",
   "execution_count": 62,
   "metadata": {
    "collapsed": true
   },
   "outputs": [],
   "source": [
    "from sklearn.metrics import accuracy_score"
   ]
  },
  {
   "cell_type": "code",
   "execution_count": 71,
   "metadata": {
    "collapsed": true
   },
   "outputs": [],
   "source": [
    "predicitionVectors = vectorizer.transform(prediction)"
   ]
  },
  {
   "cell_type": "code",
   "execution_count": 75,
   "metadata": {},
   "outputs": [
    {
     "data": {
      "text/plain": [
       "<50x3 sparse matrix of type '<class 'numpy.float64'>'\n",
       "\twith 50 stored elements in Compressed Sparse Row format>"
      ]
     },
     "execution_count": 75,
     "metadata": {},
     "output_type": "execute_result"
    }
   ],
   "source": [
    "predicitionVectors"
   ]
  },
  {
   "cell_type": "code",
   "execution_count": 76,
   "metadata": {},
   "outputs": [
    {
     "data": {
      "text/plain": [
       "<50x174 sparse matrix of type '<class 'numpy.float64'>'\n",
       "\twith 292 stored elements in Compressed Sparse Row format>"
      ]
     },
     "execution_count": 76,
     "metadata": {},
     "output_type": "execute_result"
    }
   ],
   "source": [
    "test_vectors"
   ]
  },
  {
   "cell_type": "code",
   "execution_count": 80,
   "metadata": {},
   "outputs": [
    {
     "name": "stdout",
     "output_type": "stream",
     "text": [
      "0.26\n"
     ]
    }
   ],
   "source": [
    "print(accuracy_score(vectorizer.transform(test_labels),predicitionVectors))"
   ]
  },
  {
   "cell_type": "code",
   "execution_count": null,
   "metadata": {
    "collapsed": true
   },
   "outputs": [],
   "source": []
  }
 ],
 "metadata": {
  "kernelspec": {
   "display_name": "Python 3",
   "language": "python",
   "name": "python3"
  },
  "language_info": {
   "codemirror_mode": {
    "name": "ipython",
    "version": 3
   },
   "file_extension": ".py",
   "mimetype": "text/x-python",
   "name": "python",
   "nbconvert_exporter": "python",
   "pygments_lexer": "ipython3",
   "version": "3.6.3"
  }
 },
 "nbformat": 4,
 "nbformat_minor": 2
}
