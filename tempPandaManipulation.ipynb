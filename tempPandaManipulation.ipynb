{
 "cells": [
  {
   "cell_type": "code",
   "execution_count": 1,
   "metadata": {
    "collapsed": true
   },
   "outputs": [],
   "source": [
    "import pandas as pd"
   ]
  },
  {
   "cell_type": "code",
   "execution_count": 29,
   "metadata": {
    "collapsed": true
   },
   "outputs": [],
   "source": [
    "myFile = pd.read_csv(\"withLevelPdfCSV.csv\")"
   ]
  },
  {
   "cell_type": "code",
   "execution_count": 40,
   "metadata": {},
   "outputs": [],
   "source": [
    "myArr = []"
   ]
  },
  {
   "cell_type": "code",
   "execution_count": 41,
   "metadata": {},
   "outputs": [],
   "source": [
    "for i in range(0,len(myFile)):\n",
    "    myArr.append({\"Link\":myFile[\"Desc\"][i],\"Name\":myFile[\"Name\"][i]})"
   ]
  },
  {
   "cell_type": "code",
   "execution_count": 42,
   "metadata": {},
   "outputs": [
    {
     "data": {
      "text/plain": [
       "[{'Link': 'https://homes.cs.washington.edu/~pedrod/papers/cacm12.pdf',\n",
       "  'Name': 'A Few Useful Things to Know about Machine Learning'},\n",
       " {'Link': 'http://www.ijecs.in/issue/v2-i12/11%20ijecs.pdf',\n",
       "  'Name': 'Machine Learning: An artificial intelligence methodology'},\n",
       " {'Link': 'https://royalsociety.org/~/media/policy/projects/machine-learning/publications/machine-learning-report.pdf',\n",
       "  'Name': 'Machine learning: the power and promise of computers that learn by example'},\n",
       " {'Link': 'http://robotics.stanford.edu/people/nilsson/MLBOOK.pdf',\n",
       "  'Name': 'INTRODUCTION TO MACHINE LEARNING'},\n",
       " {'Link': 'https://www.cs.huji.ac.il/~shais/UnderstandingMachineLearning/understanding-machine-learning-theory-algorithms.pdf',\n",
       "  'Name': 'Understanding Machine Learning: From Theory to Algorithms'},\n",
       " {'Link': 'http://www.cs.ubbcluj.ro/~gabis/ml/ml-books/McGrawHill%20-%20Machine%20Learning%20-Tom%20Mitchell.pdf',\n",
       "  'Name': 'Machine Learning '}]"
      ]
     },
     "execution_count": 42,
     "metadata": {},
     "output_type": "execute_result"
    }
   ],
   "source": [
    "myArr"
   ]
  },
  {
   "cell_type": "code",
   "execution_count": null,
   "metadata": {
    "collapsed": true
   },
   "outputs": [],
   "source": []
  }
 ],
 "metadata": {
  "kernelspec": {
   "display_name": "Python 3",
   "language": "python",
   "name": "python3"
  },
  "language_info": {
   "codemirror_mode": {
    "name": "ipython",
    "version": 3
   },
   "file_extension": ".py",
   "mimetype": "text/x-python",
   "name": "python",
   "nbconvert_exporter": "python",
   "pygments_lexer": "ipython3",
   "version": "3.6.3"
  }
 },
 "nbformat": 4,
 "nbformat_minor": 2
}
